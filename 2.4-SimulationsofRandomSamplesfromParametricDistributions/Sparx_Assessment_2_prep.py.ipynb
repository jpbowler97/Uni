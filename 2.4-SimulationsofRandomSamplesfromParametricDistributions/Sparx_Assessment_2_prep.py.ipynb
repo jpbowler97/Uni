{
 "cells": [
  {
   "cell_type": "code",
   "execution_count": 50,
   "metadata": {
    "collapsed": false
   },
   "outputs": [
    {
     "data": {
      "image/png": "[encoded data removed]",
      "text/plain": [
       "<matplotlib.figure.Figure at 0x11413d7f0>"
      ]
     },
     "metadata": {},
     "output_type": "display_data"
    }
   ],
   "source": [
    "import pandas as pd\n",
    "import numpy as np\n",
    "import matplotlib.pyplot as plt\n",
    "\n",
    "df = pd.read_csv(\"~/Documents/Applications/sparx_assessment.txt\")\n",
    "\n",
    "# print(df.head(6))\n",
    "# print(df.columns)\n",
    "\n",
    "def column_maximum():\n",
    "\treturn df['Date'].max()\n",
    "\n",
    "# df = df.set_index('stage')\n",
    "# print(df.columns)\n",
    "\n",
    "time_arr = df['answeringTime']\n",
    "# print(time_arr) \n",
    "# type(ID_arr)\n",
    "# print(len(df))\n",
    "# plt.plot(time_arr)\n",
    "# plt.show()\n",
    "# print(max(df['stage']))\n",
    "\n",
    "# fig = plt.figure()\n",
    "# fig.suptitle('test title')\n",
    "# plt.xlabel('x')\n",
    "# plt.ylabel('y')\n",
    "# plt.scatter(df['stage'], time_arr)\n",
    "# plt.show()\n",
    "\n",
    "# column_maximum()\n",
    "plt.hist(time_arr)\n",
    "plt.show()\n",
    "\n"
   ]
  },
  {
   "cell_type": "code",
   "execution_count": 58,
   "metadata": {
    "collapsed": false
   },
   "outputs": [],
   "source": [
    "import math\n",
    "from math import exp\n",
    "\n",
    "def Q9_Stats():\n",
    "    \n",
    "    p_0 = ((math.factorial(5))/(math.factorial(3)*math.factorial(4)*math.factorial(6)*math.factorial(2)))*exp(-5)*0.4\n",
    "    print(p_0)\n",
    "    p_1 = ((math.factorial(5))/(math.factorial(3)*math.factorial(4)*math.factorial(6)*math.factorial(2)))*pow(1.5, 16)*exp(-7.5)*0.6\n",
    "    print(p_1)\n",
    "    \n",
    "    a = p_0/(p_0 + p_1)\n",
    "    b = p_1/(p_0 + p_1)\n",
    "    \n",
    "    print(a)\n",
    "    print(b)"
   ]
  },
  {
   "cell_type": "code",
   "execution_count": 59,
   "metadata": {
    "collapsed": false
   },
   "outputs": [
    {
     "name": "stdout",
     "output_type": "stream",
     "text": [
      "1.5597099534920062e-06\n",
      "0.00012614180549629276\n",
      "0.012213715303208916\n",
      "0.9877862846967911\n"
     ]
    }
   ],
   "source": [
    "Q9_Stats()"
   ]
  },
  {
   "cell_type": "code",
   "execution_count": null,
   "metadata": {
    "collapsed": true
   },
   "outputs": [],
   "source": []
  }
 ],
 "metadata": {
  "kernelspec": {
   "display_name": "Python 3",
   "language": "python",
   "name": "python3"
  },
  "language_info": {
   "codemirror_mode": {
    "name": "ipython",
    "version": 3
   },
   "file_extension": ".py",
   "mimetype": "text/x-python",
   "name": "python",
   "nbconvert_exporter": "python",
   "pygments_lexer": "ipython3",
   "version": "3.6.0"
  }
 },
 "nbformat": 4,
 "nbformat_minor": 2
}
